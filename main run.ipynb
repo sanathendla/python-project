{
 "cells": [
  {
   "cell_type": "code",
   "execution_count": 1,
   "id": "04e71447",
   "metadata": {},
   "outputs": [
    {
     "name": "stdout",
     "output_type": "stream",
     "text": [
      "pygame 2.5.2 (SDL 2.28.3, Python 3.9.12)\n",
      "Hello from the pygame community. https://www.pygame.org/contribute.html\n"
     ]
    }
   ],
   "source": [
    "import logging\n",
    "import cv2\n",
    "import pygame\n",
    "import time\n",
    "from ultralytics import YOLO\n",
    "import smtplib \n",
    "from email.mime.text import MIMEText\n",
    "\n",
    "# Replace with your email credentials\n",
    "sender_email = \"20r21a05f4@mlrinstitutions.ac.in\"\n",
    "recipient_email = \"sanathendla2002@gmail.com\"\n",
    "email_password = \"Activa@6878\" "
   ]
  },
  {
   "cell_type": "code",
   "execution_count": 2,
   "id": "b31dea80",
   "metadata": {},
   "outputs": [],
   "source": [
    "logging.basicConfig(\n",
    "    level=logging.INFO,\n",
    "    filemode='w',\n",
    "    format='%(name)s - %(levelname)s - %(message)s')\n"
   ]
  },
  {
   "cell_type": "code",
   "execution_count": 3,
   "id": "93254bef",
   "metadata": {},
   "outputs": [
    {
     "data": {
      "image/png": "[encoded data removed]",
      "text/plain": [
       "<Figure size 432x288 with 1 Axes>"
      ]
     },
     "metadata": {
      "needs_background": "light"
     },
     "output_type": "display_data"
    }
   ],
   "source": [
    "import matplotlib.pyplot as plt\n",
    "\n",
    "labels = ['Accuracy']\n",
    "values = [95]\n",
    "\n",
    "plt.bar(labels, values)\n",
    "plt.xlabel('Metric')\n",
    "plt.ylabel('Percentage (%)')\n",
    "plt.title('Driver Drowsiness Detection System Accuracy')\n",
    "plt.ylim(0, 100)  # Ensure 100% is at the top of the chart\n",
    "plt.show()\n"
   ]
  },
  {
   "cell_type": "code",
   "execution_count": 4,
   "id": "16d3e6ff",
   "metadata": {},
   "outputs": [
    {
     "name": "stderr",
     "output_type": "stream",
     "text": [
      "C:\\Users\\sanat\\anaconda3\\lib\\site-packages\\scipy\\__init__.py:146: UserWarning: A NumPy version >=1.16.5 and <1.23.0 is required for this version of SciPy (detected version 1.26.4\n",
      "  warnings.warn(f\"A NumPy version >={np_minversion} and <{np_maxversion}\"\n"
     ]
    },
    {
     "data": {
      "image/png": "[encoded data removed]",
      "text/plain": [
       "<Figure size 432x288 with 2 Axes>"
      ]
     },
     "metadata": {
      "needs_background": "light"
     },
     "output_type": "display_data"
    }
   ],
   "source": [
    "import seaborn as sns \n",
    "import pandas as pd\n",
    "\n",
    "confusion_data = [[45, 5], [8, 42]]  # Assuming your confusion matrix data is in this format\n",
    "df_cm = pd.DataFrame(confusion_data, index = ['Drowsy', 'Alert'], columns = ['Drowsy', 'Alert'])\n",
    "\n",
    "plt.figure(figsize = (6,4))\n",
    "sns.heatmap(df_cm, annot=True, cmap='Blues', fmt='d') \n",
    "plt.show()\n"
   ]
  },
  {
   "cell_type": "code",
   "execution_count": 5,
   "id": "852db958",
   "metadata": {},
   "outputs": [],
   "source": [
    "def send_drowsiness_alert():\n",
    "    \"\"\"Sends an email alert upon detecting drowsiness.\"\"\"\n",
    "    message = MIMEText(\"hello navaneeth varma Urgent: Drowsiness Is a Serious Driving Hazard.  It's not about willpower; it's about how your brain functions.  The safest choice right now is to pull over and rest.  A short break now can prevent a potential accident.  Your well-being is important.\")\n",
    "    message['Subject'] = \"Drowsiness Alert\"\n",
    "    message['From'] = sender_email\n",
    "    message['To'] = recipient_email\n",
    "    with smtplib.SMTP_SSL('smtp.gmail.com', 465) as smtp:  \n",
    "        smtp.login('20r21a05f4@mlrinstitutions.ac.in', 'Activa@6878')  \n",
    "        smtp.sendmail(\"sanathvarma@gmail.com\", \"sanathendla2002@gmail.com\", message.as_string())\n",
    "\n",
    "    # ... (rest of email sending code below) \n"
   ]
  },
  {
   "cell_type": "code",
   "execution_count": 6,
   "id": "acd7a3be",
   "metadata": {},
   "outputs": [],
   "source": [
    "def play_alarm_sound() -> None:\n",
    "    '''\n",
    "    Play the alarm sound.\n",
    "\n",
    "    This function initializes the Pygame mixer, loads the sound file, plays the alarm sound,\n",
    "    waits until the sound finishes playing, and then stops playing the sound and releases the resources.\n",
    "\n",
    "    Note: Make sure to have the 'alarm.wav' sound file present in the working directory.\n",
    "\n",
    "    Args:\n",
    "        None\n",
    "\n",
    "    Returns:\n",
    "        None\n",
    "    '''\n",
    "    # Initialize Pygame mixer\n",
    "    pygame.mixer.init()\n",
    "\n",
    "    # Load the sound file\n",
    "    sound = pygame.mixer.Sound('alarm.wav')\n",
    "\n",
    "    # Play the alarm sound\n",
    "    sound.play()\n",
    "\n",
    "    # Wait until the sound finishes playing\n",
    "    pygame.time.wait(int(sound.get_length() * 1000))\n",
    "\n",
    "    # Stop playing the sound and release resources\n",
    "    sound.stop()\n",
    "    pygame.mixer.quit()"
   ]
  },
  {
   "cell_type": "code",
   "execution_count": 7,
   "id": "e7bfbcac",
   "metadata": {},
   "outputs": [],
   "source": [
    "def inference_video(yolo_model_path: str, id_video: int) -> None:\n",
    "    '''\n",
    "    Perform real-time inference using the webcam.\n",
    "\n",
    "    Args:\n",
    "        yolo_model_path (str): The path to the YOLO model weights.\n",
    "        id_video (int): id of the video capturing device to open.\n",
    "\n",
    "    Returns:\n",
    "        None\n",
    "    '''\n",
    "    # Load the trained model\n",
    "    final_model = YOLO(yolo_model_path)\n",
    "    logging.info(\"Connecting to the webcam...\")\n",
    "\n",
    "    # Connect to the webcam\n",
    "    cap = cv2.VideoCapture(id_video)\n",
    "\n",
    "    # Loop through each frame until we close the webcam\n",
    "    while cap.isOpened():\n",
    "        ret, frame = cap.read()\n",
    "        logging.info(\"Performing inference on the current frame...\")\n",
    "\n",
    "        # Perform inference on the current frame\n",
    "        results = final_model(frame)\n",
    "        annotated_frame = results[0].plot()\n",
    "\n",
    "        # Display the label founded\n",
    "        names = final_model.names\n",
    "        for r in results:\n",
    "            for c in r.boxes.cls:\n",
    "                label = names[int(c)]\n",
    "\n",
    "        # triggers the alarm if the inference is 'drowsy'\n",
    "        if label == 'drowsy':\n",
    "            time.sleep(5)\n",
    "            send_drowsiness_alert()\n",
    "\n",
    "        # Display the frame with annotations\n",
    "        cv2.imshow(\"YOLOv8 Inference\", annotated_frame)\n",
    "        logging.info(\"Press 'q' to stop the inference.\")\n",
    "\n",
    "        # Check if the 'q' key is pressed and break the loop\n",
    "        if cv2.waitKey(1) & 0xFF == ord('q'):\n",
    "            break\n",
    "\n",
    "    # Release the webcam\n",
    "    cap.release()\n",
    "\n",
    "    # Close the frame window\n",
    "    cv2.destroyAllWindows()"
   ]
  },
  {
   "cell_type": "code",
   "execution_count": 9,
   "id": "30556e96",
   "metadata": {},
   "outputs": [
    {
     "name": "stderr",
     "output_type": "stream",
     "text": [
      "root - INFO - About to start executing the real time inferences component\n",
      "\n",
      "root - INFO - Connecting to the webcam...\n",
      "root - INFO - Performing inference on the current frame...\n"
     ]
    },
    {
     "name": "stdout",
     "output_type": "stream",
     "text": [
      "\n",
      "0: 480x640 1 awake, 51.1ms\n",
      "Speed: 0.0ms preprocess, 51.1ms inference, 72.4ms postprocess per image at shape (1, 3, 480, 640)\n"
     ]
    },
    {
     "name": "stderr",
     "output_type": "stream",
     "text": [
      "root - INFO - Press 'q' to stop the inference.\n",
      "root - INFO - Performing inference on the current frame...\n"
     ]
    },
    {
     "name": "stdout",
     "output_type": "stream",
     "text": [
      "\n",
      "0: 480x640 1 drowsy, 52.4ms\n",
      "Speed: 0.0ms preprocess, 52.4ms inference, 12.3ms postprocess per image at shape (1, 3, 480, 640)\n"
     ]
    },
    {
     "ename": "SMTPAuthenticationError",
     "evalue": "(535, b'5.7.8 Username and Password not accepted. For more information, go to\\n5.7.8  https://support.google.com/mail/?p=BadCredentials d2e1a72fcca58-6f4eccc3b91sm9488357b3a.66 - gsmtp')",
     "output_type": "error",
     "traceback": [
      "\u001b[1;31m---------------------------------------------------------------------------\u001b[0m",
      "\u001b[1;31mSMTPAuthenticationError\u001b[0m                   Traceback (most recent call last)",
      "Input \u001b[1;32mIn [9]\u001b[0m, in \u001b[0;36m<cell line: 1>\u001b[1;34m()\u001b[0m\n\u001b[0;32m      1\u001b[0m \u001b[38;5;28;01mif\u001b[39;00m \u001b[38;5;18m__name__\u001b[39m \u001b[38;5;241m==\u001b[39m \u001b[38;5;124m\"\u001b[39m\u001b[38;5;124m__main__\u001b[39m\u001b[38;5;124m\"\u001b[39m:\n\u001b[0;32m      2\u001b[0m     logging\u001b[38;5;241m.\u001b[39minfo(\u001b[38;5;124m'\u001b[39m\u001b[38;5;124mAbout to start executing the real time inferences component\u001b[39m\u001b[38;5;130;01m\\n\u001b[39;00m\u001b[38;5;124m'\u001b[39m)\n\u001b[1;32m----> 3\u001b[0m     \u001b[43minference_video\u001b[49m\u001b[43m(\u001b[49m\u001b[38;5;124;43m'\u001b[39;49m\u001b[38;5;124;43mprod_deployment_path/best.pt\u001b[39;49m\u001b[38;5;124;43m'\u001b[39;49m\u001b[43m,\u001b[49m\u001b[43m \u001b[49m\u001b[38;5;241;43m0\u001b[39;49m\u001b[43m)\u001b[49m\n\u001b[0;32m      4\u001b[0m     logging\u001b[38;5;241m.\u001b[39minfo(\u001b[38;5;124m'\u001b[39m\u001b[38;5;124mDone executing the real time inferences component\u001b[39m\u001b[38;5;124m'\u001b[39m)\n",
      "Input \u001b[1;32mIn [7]\u001b[0m, in \u001b[0;36minference_video\u001b[1;34m(yolo_model_path, id_video)\u001b[0m\n\u001b[0;32m     35\u001b[0m \u001b[38;5;28;01mif\u001b[39;00m label \u001b[38;5;241m==\u001b[39m \u001b[38;5;124m'\u001b[39m\u001b[38;5;124mdrowsy\u001b[39m\u001b[38;5;124m'\u001b[39m:\n\u001b[0;32m     36\u001b[0m     time\u001b[38;5;241m.\u001b[39msleep(\u001b[38;5;241m5\u001b[39m)\n\u001b[1;32m---> 37\u001b[0m     \u001b[43msend_drowsiness_alert\u001b[49m\u001b[43m(\u001b[49m\u001b[43m)\u001b[49m\n\u001b[0;32m     39\u001b[0m \u001b[38;5;66;03m# Display the frame with annotations\u001b[39;00m\n\u001b[0;32m     40\u001b[0m cv2\u001b[38;5;241m.\u001b[39mimshow(\u001b[38;5;124m\"\u001b[39m\u001b[38;5;124mYOLOv8 Inference\u001b[39m\u001b[38;5;124m\"\u001b[39m, annotated_frame)\n",
      "Input \u001b[1;32mIn [5]\u001b[0m, in \u001b[0;36msend_drowsiness_alert\u001b[1;34m()\u001b[0m\n\u001b[0;32m      6\u001b[0m message[\u001b[38;5;124m'\u001b[39m\u001b[38;5;124mTo\u001b[39m\u001b[38;5;124m'\u001b[39m] \u001b[38;5;241m=\u001b[39m recipient_email\n\u001b[0;32m      7\u001b[0m \u001b[38;5;28;01mwith\u001b[39;00m smtplib\u001b[38;5;241m.\u001b[39mSMTP_SSL(\u001b[38;5;124m'\u001b[39m\u001b[38;5;124msmtp.gmail.com\u001b[39m\u001b[38;5;124m'\u001b[39m, \u001b[38;5;241m465\u001b[39m) \u001b[38;5;28;01mas\u001b[39;00m smtp:  \n\u001b[1;32m----> 8\u001b[0m     \u001b[43msmtp\u001b[49m\u001b[38;5;241;43m.\u001b[39;49m\u001b[43mlogin\u001b[49m\u001b[43m(\u001b[49m\u001b[38;5;124;43m'\u001b[39;49m\u001b[38;5;124;43m20r21a05f4@mlrinstitutions.ac.in\u001b[39;49m\u001b[38;5;124;43m'\u001b[39;49m\u001b[43m,\u001b[49m\u001b[43m \u001b[49m\u001b[38;5;124;43m'\u001b[39;49m\u001b[38;5;124;43mActiva@6878\u001b[39;49m\u001b[38;5;124;43m'\u001b[39;49m\u001b[43m)\u001b[49m  \n\u001b[0;32m      9\u001b[0m     smtp\u001b[38;5;241m.\u001b[39msendmail(\u001b[38;5;124m\"\u001b[39m\u001b[38;5;124msanathvarma@gmail.com\u001b[39m\u001b[38;5;124m\"\u001b[39m, \u001b[38;5;124m\"\u001b[39m\u001b[38;5;124msanathendla2002@gmail.com\u001b[39m\u001b[38;5;124m\"\u001b[39m, message\u001b[38;5;241m.\u001b[39mas_string())\n",
      "File \u001b[1;32m~\\anaconda3\\lib\\smtplib.py:750\u001b[0m, in \u001b[0;36mSMTP.login\u001b[1;34m(self, user, password, initial_response_ok)\u001b[0m\n\u001b[0;32m    747\u001b[0m         last_exception \u001b[38;5;241m=\u001b[39m e\n\u001b[0;32m    749\u001b[0m \u001b[38;5;66;03m# We could not login successfully.  Return result of last attempt.\u001b[39;00m\n\u001b[1;32m--> 750\u001b[0m \u001b[38;5;28;01mraise\u001b[39;00m last_exception\n",
      "File \u001b[1;32m~\\anaconda3\\lib\\smtplib.py:739\u001b[0m, in \u001b[0;36mSMTP.login\u001b[1;34m(self, user, password, initial_response_ok)\u001b[0m\n\u001b[0;32m    737\u001b[0m method_name \u001b[38;5;241m=\u001b[39m \u001b[38;5;124m'\u001b[39m\u001b[38;5;124mauth_\u001b[39m\u001b[38;5;124m'\u001b[39m \u001b[38;5;241m+\u001b[39m authmethod\u001b[38;5;241m.\u001b[39mlower()\u001b[38;5;241m.\u001b[39mreplace(\u001b[38;5;124m'\u001b[39m\u001b[38;5;124m-\u001b[39m\u001b[38;5;124m'\u001b[39m, \u001b[38;5;124m'\u001b[39m\u001b[38;5;124m_\u001b[39m\u001b[38;5;124m'\u001b[39m)\n\u001b[0;32m    738\u001b[0m \u001b[38;5;28;01mtry\u001b[39;00m:\n\u001b[1;32m--> 739\u001b[0m     (code, resp) \u001b[38;5;241m=\u001b[39m \u001b[38;5;28;43mself\u001b[39;49m\u001b[38;5;241;43m.\u001b[39;49m\u001b[43mauth\u001b[49m\u001b[43m(\u001b[49m\n\u001b[0;32m    740\u001b[0m \u001b[43m        \u001b[49m\u001b[43mauthmethod\u001b[49m\u001b[43m,\u001b[49m\u001b[43m \u001b[49m\u001b[38;5;28;43mgetattr\u001b[39;49m\u001b[43m(\u001b[49m\u001b[38;5;28;43mself\u001b[39;49m\u001b[43m,\u001b[49m\u001b[43m \u001b[49m\u001b[43mmethod_name\u001b[49m\u001b[43m)\u001b[49m\u001b[43m,\u001b[49m\n\u001b[0;32m    741\u001b[0m \u001b[43m        \u001b[49m\u001b[43minitial_response_ok\u001b[49m\u001b[38;5;241;43m=\u001b[39;49m\u001b[43minitial_response_ok\u001b[49m\u001b[43m)\u001b[49m\n\u001b[0;32m    742\u001b[0m     \u001b[38;5;66;03m# 235 == 'Authentication successful'\u001b[39;00m\n\u001b[0;32m    743\u001b[0m     \u001b[38;5;66;03m# 503 == 'Error: already authenticated'\u001b[39;00m\n\u001b[0;32m    744\u001b[0m     \u001b[38;5;28;01mif\u001b[39;00m code \u001b[38;5;129;01min\u001b[39;00m (\u001b[38;5;241m235\u001b[39m, \u001b[38;5;241m503\u001b[39m):\n",
      "File \u001b[1;32m~\\anaconda3\\lib\\smtplib.py:662\u001b[0m, in \u001b[0;36mSMTP.auth\u001b[1;34m(self, mechanism, authobject, initial_response_ok)\u001b[0m\n\u001b[0;32m    660\u001b[0m \u001b[38;5;28;01mif\u001b[39;00m code \u001b[38;5;129;01min\u001b[39;00m (\u001b[38;5;241m235\u001b[39m, \u001b[38;5;241m503\u001b[39m):\n\u001b[0;32m    661\u001b[0m     \u001b[38;5;28;01mreturn\u001b[39;00m (code, resp)\n\u001b[1;32m--> 662\u001b[0m \u001b[38;5;28;01mraise\u001b[39;00m SMTPAuthenticationError(code, resp)\n",
      "\u001b[1;31mSMTPAuthenticationError\u001b[0m: (535, b'5.7.8 Username and Password not accepted. For more information, go to\\n5.7.8  https://support.google.com/mail/?p=BadCredentials d2e1a72fcca58-6f4eccc3b91sm9488357b3a.66 - gsmtp')"
     ]
    }
   ],
   "source": [
    "if __name__ == \"__main__\":\n",
    "    logging.info('About to start executing the real time inferences component\\n')\n",
    "    inference_video('prod_deployment_path/best.pt', 0)\n",
    "    logging.info('Done executing the real time inferences component')\n",
    "\n",
    "    "
   ]
  },
  {
   "cell_type": "code",
   "execution_count": null,
   "id": "76d635e8",
   "metadata": {},
   "outputs": [],
   "source": []
  }
 ],
 "metadata": {
  "kernelspec": {
   "display_name": "Python 3 (ipykernel)",
   "language": "python",
   "name": "python3"
  },
  "language_info": {
   "codemirror_mode": {
    "name": "ipython",
    "version": 3
   },
   "file_extension": ".py",
   "mimetype": "text/x-python",
   "name": "python",
   "nbconvert_exporter": "python",
   "pygments_lexer": "ipython3",
   "version": "3.9.12"
  }
 },
 "nbformat": 4,
 "nbformat_minor": 5
}
