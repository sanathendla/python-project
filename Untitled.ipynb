{
 "cells": [
  {
   "cell_type": "code",
   "execution_count": 1,
   "id": "223bec07",
   "metadata": {},
   "outputs": [
    {
     "name": "stdout",
     "output_type": "stream",
     "text": [
      "pygame 2.5.2 (SDL 2.28.3, Python 3.9.12)\n",
      "Hello from the pygame community. https://www.pygame.org/contribute.html\n"
     ]
    }
   ],
   "source": [
    "import logging\n",
    "import cv2\n",
    "import pygame\n",
    "import time\n",
    "from ultralytics import YOLO"
   ]
  },
  {
   "cell_type": "code",
   "execution_count": 2,
   "id": "c4447768",
   "metadata": {},
   "outputs": [],
   "source": [
    "logging.basicConfig(\n",
    "    level=logging.INFO,\n",
    "    filemode='w',\n",
    "    format='%(name)s - %(levelname)s - %(message)s')\n"
   ]
  },
  {
   "cell_type": "code",
   "execution_count": 3,
   "id": "c959d81a",
   "metadata": {},
   "outputs": [],
   "source": [
    "def play_alarm_sound() -> None:\n",
    "    '''\n",
    "    Play the alarm sound.\n",
    "\n",
    "    This function initializes the Pygame mixer, loads the sound file, plays the alarm sound,\n",
    "    waits until the sound finishes playing, and then stops playing the sound and releases the resources.\n",
    "\n",
    "    Note: Make sure to have the 'alarm.wav' sound file present in the working directory.\n",
    "\n",
    "    Args:\n",
    "        None\n",
    "\n",
    "    Returns:\n",
    "        None\n",
    "    '''\n",
    "    # Initialize Pygame mixer\n",
    "    pygame.mixer.init()\n",
    "\n",
    "    # Load the sound file\n",
    "    sound = pygame.mixer.Sound('alarm.wav')\n",
    "\n",
    "    # Play the alarm sound\n",
    "    sound.play()\n",
    "\n",
    "    # Wait until the sound finishes playing\n",
    "    pygame.time.wait(int(sound.get_length() * 1000))\n",
    "\n",
    "    # Stop playing the sound and release resources\n",
    "    sound.stop()\n",
    "    pygame.mixer.quit()"
   ]
  },
  {
   "cell_type": "code",
   "execution_count": 4,
   "id": "34c59a10",
   "metadata": {},
   "outputs": [],
   "source": [
    "def inference_video(yolo_model_path: str, id_video: int) -> None:\n",
    "    '''\n",
    "    Perform real-time inference using the webcam.\n",
    "\n",
    "    Args:\n",
    "        yolo_model_path (str): The path to the YOLO model weights.\n",
    "        id_video (int): id of the video capturing device to open.\n",
    "\n",
    "    Returns:\n",
    "        None\n",
    "    '''\n",
    "    # Load the trained model\n",
    "    final_model = YOLO(yolo_model_path)\n",
    "    logging.info(\"Connecting to the webcam...\")\n",
    "\n",
    "    # Connect to the webcam\n",
    "    cap = cv2.VideoCapture(id_video)\n",
    "\n",
    "    # Loop through each frame until we close the webcam\n",
    "    while cap.isOpened():\n",
    "        ret, frame = cap.read()\n",
    "        logging.info(\"Performing inference on the current frame...\")\n",
    "\n",
    "        # Perform inference on the current frame\n",
    "        results = final_model(frame)\n",
    "        annotated_frame = results[0].plot()\n",
    "\n",
    "        # Display the label founded\n",
    "        names = final_model.names\n",
    "        for r in results:\n",
    "            for c in r.boxes.cls:\n",
    "                label = names[int(c)]\n",
    "\n",
    "        # triggers the alarm if the inference is 'drowsy'\n",
    "        if label == 'drowsy':\n",
    "            time.sleep(1)\n",
    "            play_alarm_sound()\n",
    "\n",
    "        # Display the frame with annotations\n",
    "        cv2.imshow(\"YOLOv8 Inference\", annotated_frame)\n",
    "        logging.info(\"Press 'q' to stop the inference.\")\n",
    "\n",
    "        # Check if the 'q' key is pressed and break the loop\n",
    "        if cv2.waitKey(1) & 0xFF == ord('q'):\n",
    "            break\n",
    "\n",
    "    # Release the webcam\n",
    "    cap.release()\n",
    "\n",
    "    # Close the frame window\n",
    "    cv2.destroyAllWindows()"
   ]
  },
  {
   "cell_type": "code",
   "execution_count": 5,
   "id": "cc428e4f",
   "metadata": {},
   "outputs": [
    {
     "name": "stderr",
     "output_type": "stream",
     "text": [
      "root - INFO - About to start executing the real time inferences component\n",
      "\n",
      "root - INFO - Connecting to the webcam...\n",
      "root - INFO - Performing inference on the current frame...\n"
     ]
    },
    {
     "name": "stdout",
     "output_type": "stream",
     "text": [
      "\n",
      "0: 480x640 1 awake, 40.1ms\n",
      "Speed: 4.6ms preprocess, 40.1ms inference, 16.2ms postprocess per image at shape (1, 3, 480, 640)\n"
     ]
    },
    {
     "name": "stderr",
     "output_type": "stream",
     "text": [
      "root - INFO - Press 'q' to stop the inference.\n",
      "root - INFO - Performing inference on the current frame...\n"
     ]
    },
    {
     "name": "stdout",
     "output_type": "stream",
     "text": [
      "\n",
      "0: 480x640 1 awake, 50.1ms\n",
      "Speed: 8.8ms preprocess, 50.1ms inference, 2.1ms postprocess per image at shape (1, 3, 480, 640)\n"
     ]
    },
    {
     "name": "stderr",
     "output_type": "stream",
     "text": [
      "root - INFO - Press 'q' to stop the inference.\n",
      "root - INFO - Performing inference on the current frame...\n"
     ]
    },
    {
     "name": "stdout",
     "output_type": "stream",
     "text": [
      "\n",
      "0: 480x640 1 awake, 49.5ms\n",
      "Speed: 1.9ms preprocess, 49.5ms inference, 2.0ms postprocess per image at shape (1, 3, 480, 640)\n"
     ]
    },
    {
     "name": "stderr",
     "output_type": "stream",
     "text": [
      "root - INFO - Press 'q' to stop the inference.\n",
      "root - INFO - Performing inference on the current frame...\n"
     ]
    },
    {
     "name": "stdout",
     "output_type": "stream",
     "text": [
      "\n",
      "0: 480x640 1 awake, 47.5ms\n",
      "Speed: 3.5ms preprocess, 47.5ms inference, 2.7ms postprocess per image at shape (1, 3, 480, 640)\n"
     ]
    },
    {
     "name": "stderr",
     "output_type": "stream",
     "text": [
      "root - INFO - Press 'q' to stop the inference.\n",
      "root - INFO - Performing inference on the current frame...\n"
     ]
    },
    {
     "name": "stdout",
     "output_type": "stream",
     "text": [
      "\n",
      "0: 480x640 1 awake, 51.8ms\n",
      "Speed: 0.0ms preprocess, 51.8ms inference, 2.1ms postprocess per image at shape (1, 3, 480, 640)\n"
     ]
    },
    {
     "name": "stderr",
     "output_type": "stream",
     "text": [
      "root - INFO - Press 'q' to stop the inference.\n",
      "root - INFO - Performing inference on the current frame...\n"
     ]
    },
    {
     "name": "stdout",
     "output_type": "stream",
     "text": [
      "\n",
      "0: 480x640 1 awake, 49.8ms\n",
      "Speed: 0.0ms preprocess, 49.8ms inference, 0.0ms postprocess per image at shape (1, 3, 480, 640)\n"
     ]
    },
    {
     "name": "stderr",
     "output_type": "stream",
     "text": [
      "root - INFO - Press 'q' to stop the inference.\n",
      "root - INFO - Performing inference on the current frame...\n"
     ]
    },
    {
     "name": "stdout",
     "output_type": "stream",
     "text": [
      "\n",
      "0: 480x640 1 awake, 47.3ms\n",
      "Speed: 4.9ms preprocess, 47.3ms inference, 2.8ms postprocess per image at shape (1, 3, 480, 640)\n"
     ]
    },
    {
     "name": "stderr",
     "output_type": "stream",
     "text": [
      "root - INFO - Press 'q' to stop the inference.\n",
      "root - INFO - Performing inference on the current frame...\n"
     ]
    },
    {
     "name": "stdout",
     "output_type": "stream",
     "text": [
      "\n",
      "0: 480x640 1 awake, 46.6ms\n",
      "Speed: 3.4ms preprocess, 46.6ms inference, 2.6ms postprocess per image at shape (1, 3, 480, 640)\n"
     ]
    },
    {
     "name": "stderr",
     "output_type": "stream",
     "text": [
      "root - INFO - Press 'q' to stop the inference.\n",
      "root - INFO - Performing inference on the current frame...\n"
     ]
    },
    {
     "name": "stdout",
     "output_type": "stream",
     "text": [
      "\n",
      "0: 480x640 1 awake, 49.4ms\n",
      "Speed: 2.7ms preprocess, 49.4ms inference, 3.0ms postprocess per image at shape (1, 3, 480, 640)\n"
     ]
    },
    {
     "name": "stderr",
     "output_type": "stream",
     "text": [
      "root - INFO - Press 'q' to stop the inference.\n",
      "root - INFO - Performing inference on the current frame...\n"
     ]
    },
    {
     "name": "stdout",
     "output_type": "stream",
     "text": [
      "\n",
      "0: 480x640 (no detections), 48.8ms\n",
      "Speed: 3.3ms preprocess, 48.8ms inference, 0.8ms postprocess per image at shape (1, 3, 480, 640)\n"
     ]
    },
    {
     "name": "stderr",
     "output_type": "stream",
     "text": [
      "root - INFO - Press 'q' to stop the inference.\n",
      "root - INFO - Performing inference on the current frame...\n"
     ]
    },
    {
     "name": "stdout",
     "output_type": "stream",
     "text": [
      "\n",
      "0: 480x640 1 awake, 48.2ms\n",
      "Speed: 6.0ms preprocess, 48.2ms inference, 2.0ms postprocess per image at shape (1, 3, 480, 640)\n"
     ]
    },
    {
     "name": "stderr",
     "output_type": "stream",
     "text": [
      "root - INFO - Press 'q' to stop the inference.\n",
      "root - INFO - Performing inference on the current frame...\n"
     ]
    },
    {
     "name": "stdout",
     "output_type": "stream",
     "text": [
      "\n",
      "0: 480x640 1 awake, 48.1ms\n",
      "Speed: 3.4ms preprocess, 48.1ms inference, 2.0ms postprocess per image at shape (1, 3, 480, 640)\n"
     ]
    },
    {
     "name": "stderr",
     "output_type": "stream",
     "text": [
      "root - INFO - Press 'q' to stop the inference.\n",
      "root - INFO - Performing inference on the current frame...\n"
     ]
    },
    {
     "name": "stdout",
     "output_type": "stream",
     "text": [
      "\n",
      "0: 480x640 1 awake, 47.5ms\n",
      "Speed: 2.4ms preprocess, 47.5ms inference, 2.7ms postprocess per image at shape (1, 3, 480, 640)\n"
     ]
    },
    {
     "name": "stderr",
     "output_type": "stream",
     "text": [
      "root - INFO - Press 'q' to stop the inference.\n",
      "root - INFO - Performing inference on the current frame...\n"
     ]
    },
    {
     "name": "stdout",
     "output_type": "stream",
     "text": [
      "\n",
      "0: 480x640 (no detections), 48.3ms\n",
      "Speed: 2.0ms preprocess, 48.3ms inference, 1.0ms postprocess per image at shape (1, 3, 480, 640)\n"
     ]
    },
    {
     "name": "stderr",
     "output_type": "stream",
     "text": [
      "root - INFO - Press 'q' to stop the inference.\n",
      "root - INFO - Performing inference on the current frame...\n"
     ]
    },
    {
     "name": "stdout",
     "output_type": "stream",
     "text": [
      "\n",
      "0: 480x640 1 awake, 48.0ms\n",
      "Speed: 4.2ms preprocess, 48.0ms inference, 2.0ms postprocess per image at shape (1, 3, 480, 640)\n"
     ]
    },
    {
     "name": "stderr",
     "output_type": "stream",
     "text": [
      "root - INFO - Press 'q' to stop the inference.\n",
      "root - INFO - Performing inference on the current frame...\n"
     ]
    },
    {
     "name": "stdout",
     "output_type": "stream",
     "text": [
      "\n",
      "0: 480x640 (no detections), 47.9ms\n",
      "Speed: 3.0ms preprocess, 47.9ms inference, 1.0ms postprocess per image at shape (1, 3, 480, 640)\n"
     ]
    },
    {
     "name": "stderr",
     "output_type": "stream",
     "text": [
      "root - INFO - Press 'q' to stop the inference.\n",
      "root - INFO - Performing inference on the current frame...\n"
     ]
    },
    {
     "name": "stdout",
     "output_type": "stream",
     "text": [
      "\n",
      "0: 480x640 (no detections), 48.3ms\n",
      "Speed: 2.4ms preprocess, 48.3ms inference, 0.5ms postprocess per image at shape (1, 3, 480, 640)\n"
     ]
    },
    {
     "name": "stderr",
     "output_type": "stream",
     "text": [
      "root - INFO - Press 'q' to stop the inference.\n",
      "root - INFO - Performing inference on the current frame...\n"
     ]
    },
    {
     "name": "stdout",
     "output_type": "stream",
     "text": [
      "\n",
      "0: 480x640 1 awake, 49.2ms\n",
      "Speed: 6.5ms preprocess, 49.2ms inference, 5.0ms postprocess per image at shape (1, 3, 480, 640)\n"
     ]
    },
    {
     "name": "stderr",
     "output_type": "stream",
     "text": [
      "root - INFO - Press 'q' to stop the inference.\n",
      "root - INFO - Performing inference on the current frame...\n"
     ]
    },
    {
     "name": "stdout",
     "output_type": "stream",
     "text": [
      "\n",
      "0: 480x640 1 awake, 49.0ms\n",
      "Speed: 2.8ms preprocess, 49.0ms inference, 3.5ms postprocess per image at shape (1, 3, 480, 640)\n"
     ]
    },
    {
     "name": "stderr",
     "output_type": "stream",
     "text": [
      "root - INFO - Press 'q' to stop the inference.\n",
      "root - INFO - Performing inference on the current frame...\n"
     ]
    },
    {
     "name": "stdout",
     "output_type": "stream",
     "text": [
      "\n",
      "0: 480x640 1 awake, 47.9ms\n",
      "Speed: 1.6ms preprocess, 47.9ms inference, 2.5ms postprocess per image at shape (1, 3, 480, 640)\n"
     ]
    },
    {
     "name": "stderr",
     "output_type": "stream",
     "text": [
      "root - INFO - Press 'q' to stop the inference.\n",
      "root - INFO - Performing inference on the current frame...\n"
     ]
    },
    {
     "name": "stdout",
     "output_type": "stream",
     "text": [
      "\n",
      "0: 480x640 1 awake, 48.0ms\n",
      "Speed: 2.4ms preprocess, 48.0ms inference, 3.2ms postprocess per image at shape (1, 3, 480, 640)\n"
     ]
    },
    {
     "name": "stderr",
     "output_type": "stream",
     "text": [
      "root - INFO - Press 'q' to stop the inference.\n",
      "root - INFO - Performing inference on the current frame...\n"
     ]
    },
    {
     "name": "stdout",
     "output_type": "stream",
     "text": [
      "\n",
      "0: 480x640 (no detections), 49.9ms\n",
      "Speed: 5.4ms preprocess, 49.9ms inference, 1.0ms postprocess per image at shape (1, 3, 480, 640)\n"
     ]
    },
    {
     "name": "stderr",
     "output_type": "stream",
     "text": [
      "root - INFO - Press 'q' to stop the inference.\n",
      "root - INFO - Performing inference on the current frame...\n"
     ]
    },
    {
     "name": "stdout",
     "output_type": "stream",
     "text": [
      "\n",
      "0: 480x640 1 awake, 59.9ms\n",
      "Speed: 13.0ms preprocess, 59.9ms inference, 3.3ms postprocess per image at shape (1, 3, 480, 640)\n"
     ]
    },
    {
     "name": "stderr",
     "output_type": "stream",
     "text": [
      "root - INFO - Press 'q' to stop the inference.\n",
      "root - INFO - Performing inference on the current frame...\n"
     ]
    },
    {
     "name": "stdout",
     "output_type": "stream",
     "text": [
      "\n",
      "0: 480x640 (no detections), 54.9ms\n",
      "Speed: 5.0ms preprocess, 54.9ms inference, 1.0ms postprocess per image at shape (1, 3, 480, 640)\n"
     ]
    },
    {
     "name": "stderr",
     "output_type": "stream",
     "text": [
      "root - INFO - Press 'q' to stop the inference.\n",
      "root - INFO - Performing inference on the current frame...\n"
     ]
    },
    {
     "name": "stdout",
     "output_type": "stream",
     "text": [
      "\n",
      "0: 480x640 1 awake, 50.0ms\n",
      "Speed: 3.4ms preprocess, 50.0ms inference, 1.0ms postprocess per image at shape (1, 3, 480, 640)\n"
     ]
    },
    {
     "name": "stderr",
     "output_type": "stream",
     "text": [
      "root - INFO - Press 'q' to stop the inference.\n",
      "root - INFO - Performing inference on the current frame...\n"
     ]
    },
    {
     "name": "stdout",
     "output_type": "stream",
     "text": [
      "\n",
      "0: 480x640 1 awake, 48.2ms\n",
      "Speed: 3.6ms preprocess, 48.2ms inference, 2.0ms postprocess per image at shape (1, 3, 480, 640)\n"
     ]
    },
    {
     "name": "stderr",
     "output_type": "stream",
     "text": [
      "root - INFO - Press 'q' to stop the inference.\n",
      "root - INFO - Performing inference on the current frame...\n"
     ]
    },
    {
     "name": "stdout",
     "output_type": "stream",
     "text": [
      "\n",
      "0: 480x640 1 awake, 47.7ms\n",
      "Speed: 2.8ms preprocess, 47.7ms inference, 2.0ms postprocess per image at shape (1, 3, 480, 640)\n"
     ]
    },
    {
     "name": "stderr",
     "output_type": "stream",
     "text": [
      "root - INFO - Press 'q' to stop the inference.\n",
      "root - INFO - Performing inference on the current frame...\n"
     ]
    },
    {
     "name": "stdout",
     "output_type": "stream",
     "text": [
      "\n",
      "0: 480x640 1 awake, 48.8ms\n",
      "Speed: 3.0ms preprocess, 48.8ms inference, 2.3ms postprocess per image at shape (1, 3, 480, 640)\n"
     ]
    },
    {
     "name": "stderr",
     "output_type": "stream",
     "text": [
      "root - INFO - Press 'q' to stop the inference.\n",
      "root - INFO - Performing inference on the current frame...\n"
     ]
    },
    {
     "name": "stdout",
     "output_type": "stream",
     "text": [
      "\n",
      "0: 480x640 1 awake, 48.0ms\n",
      "Speed: 2.9ms preprocess, 48.0ms inference, 2.1ms postprocess per image at shape (1, 3, 480, 640)\n"
     ]
    },
    {
     "name": "stderr",
     "output_type": "stream",
     "text": [
      "root - INFO - Press 'q' to stop the inference.\n",
      "root - INFO - Performing inference on the current frame...\n"
     ]
    },
    {
     "name": "stdout",
     "output_type": "stream",
     "text": [
      "\n",
      "0: 480x640 (no detections), 48.6ms\n",
      "Speed: 3.4ms preprocess, 48.6ms inference, 1.0ms postprocess per image at shape (1, 3, 480, 640)\n"
     ]
    },
    {
     "name": "stderr",
     "output_type": "stream",
     "text": [
      "root - INFO - Press 'q' to stop the inference.\n",
      "root - INFO - Performing inference on the current frame...\n"
     ]
    },
    {
     "name": "stdout",
     "output_type": "stream",
     "text": [
      "\n",
      "0: 480x640 1 awake, 49.1ms\n",
      "Speed: 6.5ms preprocess, 49.1ms inference, 2.6ms postprocess per image at shape (1, 3, 480, 640)\n"
     ]
    },
    {
     "name": "stderr",
     "output_type": "stream",
     "text": [
      "root - INFO - Press 'q' to stop the inference.\n",
      "root - INFO - Performing inference on the current frame...\n"
     ]
    },
    {
     "name": "stdout",
     "output_type": "stream",
     "text": [
      "\n",
      "0: 480x640 1 awake, 48.6ms\n",
      "Speed: 2.4ms preprocess, 48.6ms inference, 1.3ms postprocess per image at shape (1, 3, 480, 640)\n"
     ]
    },
    {
     "name": "stderr",
     "output_type": "stream",
     "text": [
      "root - INFO - Press 'q' to stop the inference.\n",
      "root - INFO - Performing inference on the current frame...\n"
     ]
    },
    {
     "name": "stdout",
     "output_type": "stream",
     "text": [
      "\n",
      "0: 480x640 1 drowsy, 48.7ms\n",
      "Speed: 3.7ms preprocess, 48.7ms inference, 2.0ms postprocess per image at shape (1, 3, 480, 640)\n"
     ]
    },
    {
     "name": "stderr",
     "output_type": "stream",
     "text": [
      "root - INFO - Press 'q' to stop the inference.\n",
      "root - INFO - Performing inference on the current frame...\n"
     ]
    },
    {
     "name": "stdout",
     "output_type": "stream",
     "text": [
      "\n",
      "0: 480x640 1 awake, 1 drowsy, 276.4ms\n",
      "Speed: 6.4ms preprocess, 276.4ms inference, 9.1ms postprocess per image at shape (1, 3, 480, 640)\n"
     ]
    },
    {
     "name": "stderr",
     "output_type": "stream",
     "text": [
      "root - INFO - Press 'q' to stop the inference.\n",
      "root - INFO - Performing inference on the current frame...\n"
     ]
    },
    {
     "name": "stdout",
     "output_type": "stream",
     "text": [
      "\n",
      "0: 480x640 (no detections), 257.6ms\n",
      "Speed: 6.7ms preprocess, 257.6ms inference, 0.0ms postprocess per image at shape (1, 3, 480, 640)\n"
     ]
    },
    {
     "name": "stderr",
     "output_type": "stream",
     "text": [
      "root - INFO - Press 'q' to stop the inference.\n",
      "root - INFO - Done executing the real time inferences component\n"
     ]
    }
   ],
   "source": [
    "if __name__ == \"__main__\":\n",
    "    logging.info('About to start executing the real time inferences component\\n')\n",
    "    inference_video('prod_deployment_path/best.pt', 0)\n",
    "    logging.info('Done executing the real time inferences component')\n"
   ]
  },
  {
   "cell_type": "code",
   "execution_count": null,
   "id": "2ae145ed",
   "metadata": {},
   "outputs": [],
   "source": []
  }
 ],
 "metadata": {
  "kernelspec": {
   "display_name": "Python 3 (ipykernel)",
   "language": "python",
   "name": "python3"
  },
  "language_info": {
   "codemirror_mode": {
    "name": "ipython",
    "version": 3
   },
   "file_extension": ".py",
   "mimetype": "text/x-python",
   "name": "python",
   "nbconvert_exporter": "python",
   "pygments_lexer": "ipython3",
   "version": "3.9.12"
  }
 },
 "nbformat": 4,
 "nbformat_minor": 5
}
